{
 "cells": [
  {
   "cell_type": "code",
   "execution_count": 1,
   "metadata": {},
   "outputs": [],
   "source": [
    "import numpy as np\n",
    "from lib.pde_find2 import PDEFind\n",
    "from IPython.display import display, Math"
   ]
  },
  {
   "cell_type": "code",
   "execution_count": 2,
   "metadata": {},
   "outputs": [],
   "source": [
    "raw_data = np.load(\"data/3.npz\")\n",
    "\n",
    "u = raw_data[\"u\"]\n",
    "v = raw_data[\"v\"]\n",
    "x = raw_data[\"x\"]\n",
    "y = raw_data[\"y\"]\n",
    "t = raw_data[\"t\"]"
   ]
  },
  {
   "cell_type": "code",
   "execution_count": 3,
   "metadata": {},
   "outputs": [],
   "source": [
    "pdefind = PDEFind(\n",
    "    var_labels=([\"x\", \"y\", \"t\"], [\"u\", \"v\"]),\n",
    "    polynomial_degree=3,\n",
    "    order=2,\n",
    "    periodic=True,\n",
    ")"
   ]
  },
  {
   "cell_type": "code",
   "execution_count": 4,
   "metadata": {},
   "outputs": [],
   "source": [
    "u, v, x, y, t = pdefind.subsample_data(u, v, x, y, t, factors=[3, 3, 2])\n"
   ]
  },
  {
   "cell_type": "code",
   "execution_count": 5,
   "metadata": {},
   "outputs": [],
   "source": [
    "pdefind.add_grid(x, y, t)"
   ]
  },
  {
   "cell_type": "code",
   "execution_count": 11,
   "metadata": {},
   "outputs": [
    {
     "data": {
      "text/latex": [
       "$\\displaystyle u\\\\u_{xx}\\\\u_{xx}v\\\\u_{xx}vv\\\\u_{xy}\\\\u_{xy}v\\\\u_{xy}vv\\\\u_{x}\\\\u_{x}v\\\\u_{x}vv\\\\u_{yy}\\\\u_{yy}v\\\\u_{yy}vv\\\\u_{y}\\\\u_{y}v\\\\u_{y}vv\\\\uu\\\\uu_{xx}\\\\uu_{xx}v\\\\uu_{xy}\\\\uu_{xy}v\\\\uu_{x}\\\\uu_{x}v\\\\uu_{yy}\\\\uu_{yy}v\\\\uu_{y}\\\\uu_{y}v\\\\uuu\\\\uuu_{xx}\\\\uuu_{xy}\\\\uuu_{x}\\\\uuu_{yy}\\\\uuu_{y}\\\\uuv\\\\uuv_{xx}\\\\uuv_{xy}\\\\uuv_{x}\\\\uuv_{yy}\\\\uuv_{y}\\\\uv\\\\uv_{xx}\\\\uv_{xy}\\\\uv_{x}\\\\uv_{yy}\\\\uv_{y}\\\\uvv\\\\uvv_{xx}\\\\uvv_{xy}\\\\uvv_{x}\\\\uvv_{yy}\\\\uvv_{y}\\\\v\\\\v_{xx}\\\\v_{xy}\\\\v_{x}\\\\v_{yy}\\\\v_{y}\\\\vv\\\\vv_{xx}\\\\vv_{xy}\\\\vv_{x}\\\\vv_{yy}\\\\vv_{y}\\\\vvv\\\\vvv_{xx}\\\\vvv_{xy}\\\\vvv_{x}\\\\vvv_{yy}\\\\vvv_{y}$"
      ],
      "text/plain": [
       "<IPython.core.display.Math object>"
      ]
     },
     "metadata": {},
     "output_type": "display_data"
    }
   ],
   "source": [
    "term_regex = r\"^(u|v)*(_{(x|y)+})?(v)*$\"\n",
    "\n",
    "library, labels = pdefind.create_library(u, v, term_regex=term_regex)\n",
    "\n",
    "display(Math(r\"\\\\\".join(labels)))"
   ]
  },
  {
   "cell_type": "code",
   "execution_count": 7,
   "metadata": {},
   "outputs": [],
   "source": [
    "u_t = np.gradient(u, pdefind.time_grid, axis=-1)\n",
    "v_t = np.gradient(v, pdefind.time_grid, axis=-1)"
   ]
  },
  {
   "cell_type": "code",
   "execution_count": 8,
   "metadata": {},
   "outputs": [],
   "source": [
    "algorithm = \"tlsq\"\n",
    "cutoff = 1e-4\n",
    "iterations = 500\n",
    "max_terms = 10"
   ]
  },
  {
   "cell_type": "code",
   "execution_count": 9,
   "metadata": {},
   "outputs": [
    {
     "name": "stdout",
     "output_type": "stream",
     "text": [
      "Solving using tlsq regression\n",
      "Library size: (69, 86, 86, 101), Target size: 746996\n"
     ]
    },
    {
     "name": "stderr",
     "output_type": "stream",
     "text": [
      "TLSQ Iterations:  28%|██▊       | 141/500 [00:53<02:16,  2.63it/s, #nzz_terms=8, cutoff=0.0001] "
     ]
    },
    {
     "name": "stdout",
     "output_type": "stream",
     "text": [
      "# of non-zero terms: 8\n"
     ]
    },
    {
     "name": "stderr",
     "output_type": "stream",
     "text": [
      "\n"
     ]
    },
    {
     "data": {
      "text/latex": [
       "$\\displaystyle \\frac{\\partial {u}}{\\partial {t}}=0.762u+0.108u_{xx}+0.105u_{yy}-0.735uuu+0.671uuv-0.738uvv+0.287v+0.67vvv$"
      ],
      "text/plain": [
       "<IPython.core.display.Math object>"
      ]
     },
     "metadata": {},
     "output_type": "display_data"
    }
   ],
   "source": [
    "coef_u, alpha_u = pdefind.solve_regression(\n",
    "    library,\n",
    "    u_t,\n",
    "    algorithm=algorithm,\n",
    "    cutoff=cutoff,\n",
    "    iterations=iterations,\n",
    "    num_term_limit=max_terms,\n",
    ")"
   ]
  },
  {
   "cell_type": "code",
   "execution_count": 13,
   "metadata": {},
   "outputs": [
    {
     "data": {
      "text/latex": [
       "$\\displaystyle \\frac{\\partial {u}}{\\partial {t}}=0.762u+0.108u_{xx}+0.105u_{yy}-0.735uuu+0.671uuv-0.738uvv+0.287v+0.67vvv$"
      ],
      "text/plain": [
       "<IPython.core.display.Math object>"
      ]
     },
     "metadata": {},
     "output_type": "display_data"
    }
   ],
   "source": [
    "display(Math(pdefind.latex_string(coef_u, labels, \"u\")))"
   ]
  },
  {
   "cell_type": "code",
   "execution_count": 10,
   "metadata": {},
   "outputs": [
    {
     "name": "stdout",
     "output_type": "stream",
     "text": [
      "Solving using tlsq regression\n",
      "Library size: (69, 86, 86, 101), Target size: 746996\n"
     ]
    },
    {
     "name": "stderr",
     "output_type": "stream",
     "text": [
      "TLSQ Iterations:  26%|██▌       | 128/500 [00:41<02:01,  3.05it/s, #nzz_terms=9, cutoff=0.0001] "
     ]
    },
    {
     "name": "stdout",
     "output_type": "stream",
     "text": [
      "# of non-zero terms: 9\n"
     ]
    },
    {
     "name": "stderr",
     "output_type": "stream",
     "text": [
      "\n"
     ]
    },
    {
     "data": {
      "text/latex": [
       "$\\displaystyle \\frac{\\partial {v}}{\\partial {t}}=-0.28u-0.679uuu-0.727uuv-0.679uvv+0.757v+0.118v_{xx}+0.106v_{yy}-0.74vvv-0.0353vvv_{xx}$"
      ],
      "text/plain": [
       "<IPython.core.display.Math object>"
      ]
     },
     "metadata": {},
     "output_type": "display_data"
    }
   ],
   "source": [
    "coef_v, alpha_v = pdefind.solve_regression(\n",
    "    library,\n",
    "    v_t,\n",
    "    algorithm=algorithm,\n",
    "    cutoff=cutoff,\n",
    "    iterations=iterations,\n",
    "    num_term_limit=max_terms,\n",
    ")"
   ]
  },
  {
   "cell_type": "code",
   "execution_count": 14,
   "metadata": {},
   "outputs": [
    {
     "data": {
      "text/latex": [
       "$\\displaystyle \\frac{\\partial {v}}{\\partial {t}}=-0.28u-0.679uuu-0.727uuv-0.679uvv+0.757v+0.118v_{xx}+0.106v_{yy}-0.74vvv-0.0353vvv_{xx}$"
      ],
      "text/plain": [
       "<IPython.core.display.Math object>"
      ]
     },
     "metadata": {},
     "output_type": "display_data"
    }
   ],
   "source": [
    "display(Math(pdefind.latex_string(coef_v, labels, \"v\")))"
   ]
  },
  {
   "cell_type": "code",
   "execution_count": 12,
   "metadata": {},
   "outputs": [
    {
     "name": "stdout",
     "output_type": "stream",
     "text": [
      "du/dt = +0.762*u+0.108*u_xx+0.105*u_yy-0.735*u*u*u+0.671*u*u*v-0.738*u*v*v+0.287*v+0.67*v*v*v\n",
      "dv/dt = -0.28*u-0.679*u*u*u-0.727*u*u*v-0.679*u*v*v+0.757*v+0.118*v_xx+0.106*v_yy-0.74*v*v*v-0.0353*v*v*v_xx\n"
     ]
    }
   ],
   "source": [
    "print(pdefind.python_string(coef_u, labels, \"u\"))\n",
    "print(pdefind.python_string(coef_v, labels, \"v\"))"
   ]
  }
 ],
 "metadata": {
  "kernelspec": {
   "display_name": ".venv",
   "language": "python",
   "name": "python3"
  },
  "language_info": {
   "codemirror_mode": {
    "name": "ipython",
    "version": 3
   },
   "file_extension": ".py",
   "mimetype": "text/x-python",
   "name": "python",
   "nbconvert_exporter": "python",
   "pygments_lexer": "ipython3",
   "version": "3.12.7"
  }
 },
 "nbformat": 4,
 "nbformat_minor": 2
}
