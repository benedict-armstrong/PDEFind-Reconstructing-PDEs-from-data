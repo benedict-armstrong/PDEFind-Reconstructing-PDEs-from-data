{
 "cells": [
  {
   "cell_type": "code",
   "execution_count": 26,
   "metadata": {},
   "outputs": [],
   "source": [
    "import numpy as np\n",
    "from pde_find import PDEFind\n",
    "from IPython.display import display, Math"
   ]
  },
  {
   "cell_type": "code",
   "execution_count": 27,
   "metadata": {},
   "outputs": [],
   "source": [
    "raw_data = np.load(\"data/3.npz\")\n",
    "\n",
    "u = raw_data[\"u\"]\n",
    "v = raw_data[\"u\"]\n",
    "x = raw_data[\"x\"]\n",
    "y = raw_data[\"y\"]\n",
    "t = raw_data[\"t\"]\n",
    "\n",
    "data = np.stack([x, y, t, u, v], axis=-1)\n",
    "\n",
    "# downsample the data\n",
    "data = data[::4, ::4, ::4]\n",
    "\n",
    "vars = ([\"x\", \"y\", \"t\"], [\"u\", \"v\"])"
   ]
  },
  {
   "cell_type": "code",
   "execution_count": 28,
   "metadata": {},
   "outputs": [],
   "source": [
    "pdefind = PDEFind(data, vars, lib_size=3, order=2)"
   ]
  },
  {
   "cell_type": "code",
   "execution_count": 29,
   "metadata": {},
   "outputs": [
    {
     "name": "stdout",
     "output_type": "stream",
     "text": [
      "len(library): 455\n",
      "len(library): 455\n"
     ]
    }
   ],
   "source": [
    "library, labels = pdefind.create_library()\n",
    "\n",
    "print(\"len(library):\", len(library))\n",
    "print(\"len(library):\", len(set(labels)))\n",
    "\n",
    "# for i in range(len(library)):\n",
    "#     display(Math(labels[i]))"
   ]
  },
  {
   "cell_type": "code",
   "execution_count": 30,
   "metadata": {},
   "outputs": [],
   "source": [
    "u_t = np.gradient(data[..., 3], data[..., 2][0, 0], axis=-1)\n",
    "v_t = np.gradient(data[..., 4], data[..., 2][0, 0], axis=-1)"
   ]
  },
  {
   "cell_type": "code",
   "execution_count": 36,
   "metadata": {},
   "outputs": [
    {
     "name": "stdout",
     "output_type": "stream",
     "text": [
      "Solving for u\n",
      "Solving using lasso regression\n",
      "Library size: 95047680, Target size: 208896\n",
      "# of non-zero terms: 48\n"
     ]
    },
    {
     "data": {
      "text/latex": [
       "$\\displaystyle \\frac{\\partial {u}}{\\partial {t}}=-0.234u-0.415u_{xx}-0.426u_{yy}+0.0355u_{x}u_{yy}-0.0178u_{xx}u_{xx}-0.151uu_{xx}u_{xx}-1.88uu_{xx}u_{yy}-0.0151uu_{xx}v_{xx}+0.466uu_{xy}u_{xy}-0.163uu_{yy}u_{yy}-0.0404uu_{yy}v_{xx}-0.0435uu_{yy}v_{yy}+0.315uv_{xy}v_{xy}-0.0519u_{xx}u_{yy}v+0.221u_{xy}u_{xy}v-0.143u_{yy}vv_{xx}+0.0662vv_{xy}v_{xy}+0.145u_{xx}u_{x}u_{x}+0.745u_{x}u_{x}u_{yy}-1.47u_{xy}u_{x}u_{y}+0.598u_{xx}u_{y}u_{y}+0.125u_{yy}u_{y}u_{y}-0.0688u_{xy}u_{y}v_{x}+0.0276u_{yy}u_{y}v_{y}-0.0136u_{y}v_{xy}v_{x}-0.035u_{xx}u_{xx}u_{xx}-0.347u_{xx}u_{xx}u_{yy}-0.0102u_{xx}u_{xx}v_{x}-0.149u_{xx}u_{yy}u_{yy}+0.0452u_{xx}v_{x}v_{x}+0.304u_{xx}v_{y}v_{y}-0.0159u_{xx}v_{xy}v_{xy}-0.0724u_{xx}v_{yy}v_{yy}-0.0313u_{xy}u_{xy}u_{yy}-0.0131u_{xy}u_{xy}v_{xx}-0.0384u_{xy}v_{x}v_{y}-0.0431u_{yy}u_{yy}u_{yy}-0.0149u_{yy}u_{yy}v_{y}-0.0177u_{yy}u_{yy}v_{xx}+0.256u_{yy}v_{x}v_{x}+0.0873u_{yy}v_{y}v_{y}-0.0261u_{yy}v_{xx}v_{yy}-0.0522u_{yy}v_{xy}v_{xy}-0.0228u_{yy}v_{yy}v_{yy}+0.0322v_{x}v_{x}v_{yy}+0.0671v_{xx}v_{y}v_{y}+0.0472v_{yy}v_{y}v_{y}-0.0109v_{xy}v_{xy}v_{yy}$"
      ],
      "text/plain": [
       "<IPython.core.display.Math object>"
      ]
     },
     "metadata": {},
     "output_type": "display_data"
    }
   ],
   "source": [
    "print(\"Solving for u\")\n",
    "\n",
    "coef_u, alpha_u = pdefind.solve_regression(library, u_t, algorithm=\"lasso\")\n",
    "\n",
    "display(Math(pdefind.latex_string(coef_u, \"u\")))"
   ]
  },
  {
   "cell_type": "code",
   "execution_count": 32,
   "metadata": {},
   "outputs": [
    {
     "name": "stdout",
     "output_type": "stream",
     "text": [
      "Solving for u\n",
      "Solving using ridge regression\n",
      "Library size: 95047680, Target size: 208896\n",
      "# of non-zero terms: 113\n",
      "alpah: 10000.0\n"
     ]
    },
    {
     "data": {
      "text/latex": [
       "$\\displaystyle \\frac{\\partial {u}}{\\partial {t}}=-0.0147u-0.0147v-0.0411u_{xx}-0.0384u_{yy}-0.0411v_{xx}-0.0384v_{yy}-0.0115uu_{y}-0.0115uv_{y}-0.0115u_{y}v-0.0115vv_{y}-0.0121u_{xy}u_{x}-0.0121u_{x}v_{xy}+0.0117u_{xx}u_{y}+0.0117u_{y}v_{xx}-0.0123u_{xx}u_{xx}+0.0117u_{xx}v_{y}-0.0123u_{xx}v_{xx}-0.0121u_{xy}v_{x}-0.0121v_{xy}v_{x}+0.0117v_{xx}v_{y}-0.0123v_{xx}v_{xx}-0.0104uu_{xx}u_{x}-0.0104uu_{x}v_{xx}-0.014uu_{xx}u_{xx}-0.0757uu_{xx}u_{yy}-0.0104uu_{xx}v_{x}-0.014uu_{xx}v_{xx}-0.0757uu_{xx}v_{yy}+0.0623uu_{xy}u_{xy}+0.0623uu_{xy}v_{xy}-0.0205uu_{yy}u_{yy}-0.0757uu_{yy}v_{xx}-0.0205uu_{yy}v_{yy}-0.0104uv_{xx}v_{x}-0.014uv_{xx}v_{xx}-0.0757uv_{xx}v_{yy}+0.0623uv_{xy}v_{xy}-0.0205uv_{yy}v_{yy}-0.0104u_{xx}u_{x}v-0.0104u_{x}vv_{xx}-0.014u_{xx}u_{xx}v-0.0757u_{xx}u_{yy}v-0.0104u_{xx}vv_{x}-0.014u_{xx}vv_{xx}-0.0757u_{xx}vv_{yy}+0.0623u_{xy}u_{xy}v+0.0623u_{xy}vv_{xy}-0.0205u_{yy}u_{yy}v-0.0757u_{yy}vv_{xx}-0.0205u_{yy}vv_{yy}-0.0104vv_{xx}v_{x}-0.014vv_{xx}v_{xx}-0.0757vv_{xx}v_{yy}+0.0623vv_{xy}v_{xy}-0.0205vv_{yy}v_{yy}+0.101u_{x}u_{x}u_{yy}+0.101u_{x}u_{x}v_{yy}-0.0874u_{xy}u_{x}u_{y}-0.0874u_{x}u_{y}v_{xy}-0.0186u_{xx}u_{xx}u_{x}-0.0186u_{xx}u_{x}v_{xx}-0.0874u_{xy}u_{x}v_{y}+0.101u_{x}u_{yy}v_{x}+0.101u_{x}v_{x}v_{yy}-0.0874u_{x}v_{xy}v_{y}-0.0186u_{x}v_{xx}v_{xx}+0.096u_{xx}u_{y}u_{y}+0.0149u_{yy}u_{y}u_{y}+0.096u_{y}u_{y}v_{xx}+0.0149u_{y}u_{y}v_{yy}+0.096u_{xx}u_{y}v_{y}-0.0874u_{xy}u_{y}v_{x}-0.0212u_{yy}u_{yy}u_{y}+0.0149u_{yy}u_{y}v_{y}-0.0212u_{yy}u_{y}v_{yy}-0.0874u_{y}v_{xy}v_{x}+0.096u_{y}v_{xx}v_{y}+0.0149u_{y}v_{yy}v_{y}-0.0212u_{y}v_{yy}v_{yy}-0.0146u_{xx}u_{xx}u_{xx}-0.0186u_{xx}u_{xx}v_{x}-0.0146u_{xx}u_{xx}v_{xx}-0.0315u_{xx}u_{xy}u_{xy}-0.0315u_{xx}u_{xy}v_{xy}-0.0186u_{xx}v_{xx}v_{x}+0.096u_{xx}v_{y}v_{y}-0.0146u_{xx}v_{xx}v_{xx}-0.0315u_{xx}v_{xy}v_{xy}-0.0331u_{xy}u_{xy}u_{yy}-0.0315u_{xy}u_{xy}v_{xx}-0.0331u_{xy}u_{xy}v_{yy}-0.0331u_{xy}u_{yy}v_{xy}-0.0874u_{xy}v_{x}v_{y}-0.0315u_{xy}v_{xx}v_{xy}-0.0331u_{xy}v_{xy}v_{yy}-0.0254u_{yy}u_{yy}u_{yy}-0.0212u_{yy}u_{yy}v_{y}-0.0254u_{yy}u_{yy}v_{yy}+0.101u_{yy}v_{x}v_{x}+0.0149u_{yy}v_{y}v_{y}-0.0212u_{yy}v_{yy}v_{y}-0.0331u_{yy}v_{xy}v_{xy}-0.0254u_{yy}v_{yy}v_{yy}+0.101v_{x}v_{x}v_{yy}-0.0874v_{xy}v_{x}v_{y}-0.0186v_{xx}v_{xx}v_{x}+0.096v_{xx}v_{y}v_{y}+0.0149v_{yy}v_{y}v_{y}-0.0212v_{yy}v_{yy}v_{y}-0.0146v_{xx}v_{xx}v_{xx}-0.0315v_{xx}v_{xy}v_{xy}-0.0331v_{xy}v_{xy}v_{yy}-0.0254v_{yy}v_{yy}v_{yy}$"
      ],
      "text/plain": [
       "<IPython.core.display.Math object>"
      ]
     },
     "metadata": {},
     "output_type": "display_data"
    }
   ],
   "source": [
    "print(\"Solving for u\")\n",
    "\n",
    "coef_u_ridge, alpha_u_ridge = pdefind.solve_regression(library, u_t, algorithm=\"ridge\", alphas=[10e3])\n",
    "print(\"alpah:\", alpha_u_ridge)\n",
    "\n",
    "display(Math(pdefind.latex_string(coef_u_ridge, \"u\")))"
   ]
  },
  {
   "cell_type": "code",
   "execution_count": 35,
   "metadata": {},
   "outputs": [
    {
     "name": "stdout",
     "output_type": "stream",
     "text": [
      "Solving for v\n",
      "Solving using tlsq regression\n",
      "Library size: 95047680, Target size: 208896\n"
     ]
    },
    {
     "name": "stderr",
     "output_type": "stream",
     "text": [
      "TLSQ Iterations:   6%|▌         | 3/50 [00:07<02:04,  2.65s/it, # of non-zero terms=280]\n"
     ]
    },
    {
     "ename": "KeyboardInterrupt",
     "evalue": "",
     "output_type": "error",
     "traceback": [
      "\u001b[0;31m---------------------------------------------------------------------------\u001b[0m",
      "\u001b[0;31mKeyboardInterrupt\u001b[0m                         Traceback (most recent call last)",
      "Cell \u001b[0;32mIn[35], line 3\u001b[0m\n\u001b[1;32m      1\u001b[0m \u001b[38;5;28mprint\u001b[39m(\u001b[38;5;124m\"\u001b[39m\u001b[38;5;124mSolving for v\u001b[39m\u001b[38;5;124m\"\u001b[39m)\n\u001b[0;32m----> 3\u001b[0m coef_v, alpha_v \u001b[38;5;241m=\u001b[39m \u001b[43mpdefind\u001b[49m\u001b[38;5;241;43m.\u001b[39;49m\u001b[43msolve_regression\u001b[49m\u001b[43m(\u001b[49m\u001b[43mlibrary\u001b[49m\u001b[43m,\u001b[49m\u001b[43m \u001b[49m\u001b[43mv_t\u001b[49m\u001b[43m,\u001b[49m\u001b[43m \u001b[49m\u001b[43malgorithm\u001b[49m\u001b[38;5;241;43m=\u001b[39;49m\u001b[38;5;124;43m\"\u001b[39;49m\u001b[38;5;124;43mtlsq\u001b[39;49m\u001b[38;5;124;43m\"\u001b[39;49m\u001b[43m,\u001b[49m\u001b[43m \u001b[49m\u001b[43mcutoff\u001b[49m\u001b[38;5;241;43m=\u001b[39;49m\u001b[38;5;241;43m10\u001b[39;49m\u001b[43m)\u001b[49m\n\u001b[1;32m      5\u001b[0m display(Math(pdefind\u001b[38;5;241m.\u001b[39mlatex_string(coef_v, \u001b[38;5;124m\"\u001b[39m\u001b[38;5;124mv\u001b[39m\u001b[38;5;124m\"\u001b[39m)))\n",
      "File \u001b[0;32m~/University/AISE/project/src/PDE-Find: Reconstructing PDEs from data/pde_find.py:226\u001b[0m, in \u001b[0;36mPDEFind.solve_regression\u001b[0;34m(self, library, target, cutoff, iterations, algorithm, alphas)\u001b[0m\n\u001b[1;32m    223\u001b[0m     biginds \u001b[38;5;241m=\u001b[39m np\u001b[38;5;241m.\u001b[39mabs(X) \u001b[38;5;241m>\u001b[39m \u001b[38;5;241m0\u001b[39m\n\u001b[1;32m    224\u001b[0m     new_lib \u001b[38;5;241m=\u001b[39m library[biginds]\u001b[38;5;241m.\u001b[39mreshape((\u001b[38;5;28msum\u001b[39m(biginds), \u001b[38;5;241m-\u001b[39m\u001b[38;5;241m1\u001b[39m), copy\u001b[38;5;241m=\u001b[39m\u001b[38;5;28;01mTrue\u001b[39;00m)\u001b[38;5;241m.\u001b[39mT\n\u001b[0;32m--> 226\u001b[0m     X[biginds] \u001b[38;5;241m=\u001b[39m \u001b[43mnp\u001b[49m\u001b[38;5;241;43m.\u001b[39;49m\u001b[43mlinalg\u001b[49m\u001b[38;5;241;43m.\u001b[39;49m\u001b[43mlstsq\u001b[49m\u001b[43m(\u001b[49m\n\u001b[1;32m    227\u001b[0m \u001b[43m        \u001b[49m\u001b[43mnew_lib\u001b[49m\u001b[43m,\u001b[49m\n\u001b[1;32m    228\u001b[0m \u001b[43m        \u001b[49m\u001b[43mtarget_flat\u001b[49m\u001b[43m,\u001b[49m\n\u001b[1;32m    229\u001b[0m \u001b[43m        \u001b[49m\u001b[43mrcond\u001b[49m\u001b[38;5;241;43m=\u001b[39;49m\u001b[38;5;28;43;01mNone\u001b[39;49;00m\u001b[43m,\u001b[49m\n\u001b[1;32m    230\u001b[0m \u001b[43m    \u001b[49m\u001b[43m)\u001b[49m[\u001b[38;5;241m0\u001b[39m]\n\u001b[1;32m    232\u001b[0m     progress\u001b[38;5;241m.\u001b[39mset_postfix({\u001b[38;5;124m\"\u001b[39m\u001b[38;5;124m# of non-zero terms\u001b[39m\u001b[38;5;124m\"\u001b[39m: \u001b[38;5;28msum\u001b[39m(np\u001b[38;5;241m.\u001b[39mabs(X) \u001b[38;5;241m>\u001b[39m \u001b[38;5;241m0\u001b[39m)})\n\u001b[1;32m    234\u001b[0m \u001b[38;5;28mself\u001b[39m\u001b[38;5;241m.\u001b[39mcoef \u001b[38;5;241m=\u001b[39m X\n",
      "File \u001b[0;32m~/University/AISE/project/.venv/lib/python3.12/site-packages/numpy/linalg/_linalg.py:2516\u001b[0m, in \u001b[0;36mlstsq\u001b[0;34m(a, b, rcond)\u001b[0m\n\u001b[1;32m   2512\u001b[0m     b \u001b[38;5;241m=\u001b[39m zeros(b\u001b[38;5;241m.\u001b[39mshape[:\u001b[38;5;241m-\u001b[39m\u001b[38;5;241m2\u001b[39m] \u001b[38;5;241m+\u001b[39m (m, n_rhs \u001b[38;5;241m+\u001b[39m \u001b[38;5;241m1\u001b[39m), dtype\u001b[38;5;241m=\u001b[39mb\u001b[38;5;241m.\u001b[39mdtype)\n\u001b[1;32m   2514\u001b[0m \u001b[38;5;28;01mwith\u001b[39;00m errstate(call\u001b[38;5;241m=\u001b[39m_raise_linalgerror_lstsq, invalid\u001b[38;5;241m=\u001b[39m\u001b[38;5;124m'\u001b[39m\u001b[38;5;124mcall\u001b[39m\u001b[38;5;124m'\u001b[39m,\n\u001b[1;32m   2515\u001b[0m               over\u001b[38;5;241m=\u001b[39m\u001b[38;5;124m'\u001b[39m\u001b[38;5;124mignore\u001b[39m\u001b[38;5;124m'\u001b[39m, divide\u001b[38;5;241m=\u001b[39m\u001b[38;5;124m'\u001b[39m\u001b[38;5;124mignore\u001b[39m\u001b[38;5;124m'\u001b[39m, under\u001b[38;5;241m=\u001b[39m\u001b[38;5;124m'\u001b[39m\u001b[38;5;124mignore\u001b[39m\u001b[38;5;124m'\u001b[39m):\n\u001b[0;32m-> 2516\u001b[0m     x, resids, rank, s \u001b[38;5;241m=\u001b[39m \u001b[43m_umath_linalg\u001b[49m\u001b[38;5;241;43m.\u001b[39;49m\u001b[43mlstsq\u001b[49m\u001b[43m(\u001b[49m\u001b[43ma\u001b[49m\u001b[43m,\u001b[49m\u001b[43m \u001b[49m\u001b[43mb\u001b[49m\u001b[43m,\u001b[49m\u001b[43m \u001b[49m\u001b[43mrcond\u001b[49m\u001b[43m,\u001b[49m\n\u001b[1;32m   2517\u001b[0m \u001b[43m                                             \u001b[49m\u001b[43msignature\u001b[49m\u001b[38;5;241;43m=\u001b[39;49m\u001b[43msignature\u001b[49m\u001b[43m)\u001b[49m\n\u001b[1;32m   2518\u001b[0m \u001b[38;5;28;01mif\u001b[39;00m m \u001b[38;5;241m==\u001b[39m \u001b[38;5;241m0\u001b[39m:\n\u001b[1;32m   2519\u001b[0m     x[\u001b[38;5;241m.\u001b[39m\u001b[38;5;241m.\u001b[39m\u001b[38;5;241m.\u001b[39m] \u001b[38;5;241m=\u001b[39m \u001b[38;5;241m0\u001b[39m\n",
      "\u001b[0;31mKeyboardInterrupt\u001b[0m: "
     ]
    }
   ],
   "source": [
    "print(\"Solving for v\")\n",
    "\n",
    "coef_v, alpha_v = pdefind.solve_regression(library, v_t, algorithm=\"tlsq\", cutoff=10)\n",
    "\n",
    "display(Math(pdefind.latex_string(coef_v, \"v\")))"
   ]
  },
  {
   "cell_type": "code",
   "execution_count": null,
   "metadata": {},
   "outputs": [],
   "source": [
    "included_terms_u = pdefind.non_zero_terms(coef_u)\n",
    "included_terms_v = pdefind.non_zero_terms(coef_v)\n",
    "print(\"Included terms for u:\")\n",
    "display(Math((\",\\\\,\".join(included_terms_u))))\n",
    "print(\"Included terms for v:\")\n",
    "display(Math((\",\\\\,\".join(included_terms_v))))"
   ]
  }
 ],
 "metadata": {
  "kernelspec": {
   "display_name": ".venv",
   "language": "python",
   "name": "python3"
  },
  "language_info": {
   "codemirror_mode": {
    "name": "ipython",
    "version": 3
   },
   "file_extension": ".py",
   "mimetype": "text/x-python",
   "name": "python",
   "nbconvert_exporter": "python",
   "pygments_lexer": "ipython3",
   "version": "3.12.7"
  }
 },
 "nbformat": 4,
 "nbformat_minor": 2
}
